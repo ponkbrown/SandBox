{
 "cells": [
  {
   "cell_type": "code",
   "execution_count": 39,
   "metadata": {
    "collapsed": true
   },
   "outputs": [],
   "source": [
    "from sqlalchemy import create_engine\n",
    "from sqlalchemy.ext.declarative import declarative_base\n",
    "from sqlalchemy.orm import scoped_session, sessionmaker"
   ]
  },
  {
   "cell_type": "code",
   "execution_count": 40,
   "metadata": {
    "collapsed": false
   },
   "outputs": [],
   "source": [
    "engine = create_engine('sqlite:///worldzoo.db')"
   ]
  },
  {
   "cell_type": "code",
   "execution_count": 41,
   "metadata": {
    "collapsed": false
   },
   "outputs": [],
   "source": [
    "Base = declarative_base()\n",
    "Base.metadata.reflect(engine)"
   ]
  },
  {
   "cell_type": "code",
   "execution_count": 42,
   "metadata": {
    "collapsed": false
   },
   "outputs": [],
   "source": [
    "class World(Base):\n",
    "    __table__ = Base.metadata.tables['world']"
   ]
  },
  {
   "cell_type": "code",
   "execution_count": 43,
   "metadata": {
    "collapsed": true
   },
   "outputs": [],
   "source": [
    "session = scoped_session(sessionmaker(bind=engine))"
   ]
  },
  {
   "cell_type": "code",
   "execution_count": 45,
   "metadata": {
    "collapsed": false
   },
   "outputs": [
    {
     "name": "stdout",
     "output_type": "stream",
     "text": [
      "Afghanistan: Albania: Algeria: Andorra: Angola: Antigua and Barbuda: Argentina: Armenia: Australia: Austria: Azerbaijan: Bahamas: Bahrain: Bangladesh: Barbados: Belarus: Belgium: Belize: Benin: Bhutan: Bolivia: Bosnia and Herzegovina: Botswana: Brazil: Brunei: Bulgaria: Burkina Faso: Burundi: Cambodia: Cameroon: Canada: Cape Verde: Central African Republic: Chad: Chile: China: Colombia: Comoros: Congo, Democratic Republic of: Congo, Republic of: Costa Rica: Croatia: Cuba: Cyprus: Czech Republic: Côte d'Ivoire: Denmark: Djibouti: Dominica: Dominican Republic: Ecuador: Egypt: El Salvador: Equatorial Guinea: Eritrea: Estonia: Ethiopia: Fiji: Finland: France: Gabon: Gambia: Georgia: Germany: Ghana: Greece: Grenada: Guatemala: Guinea: Guinea-Bissau: Guyana: Haiti: Honduras: Hungary: Iceland: India: Indonesia: Iran: Iraq: Ireland: Israel: Italy: Jamaica: Japan: Jordan: Kazakhstan: Kenya: Kiribati: Kuwait: Kyrgyzstan: Laos: Latvia: Lebanon: Lesotho: Liberia: Libya: Liechtenstein: Lithuania: Luxembourg: Macedonia: Madagascar: Malawi: Malaysia: Maldives: Mali: Malta: Marshall Islands: Mauritania: Mauritius: Mexico: Micronesia, Federated States of: Moldova: Monaco: Mongolia: Montenegro: Morocco: Mozambique: Myanmar: Namibia: Nauru: Nepal: Netherlands: New Zealand: Nicaragua: Niger: Nigeria: North Korea: Norway: Oman: Pakistan: Palau: Panama: Papua New Guinea: Paraguay: Peru: Philippines: Poland: Portugal: Qatar: Romania: Russia: Rwanda: Saint Kitts and Nevis: Saint Lucia: Saint Vincent and the Grenadines: Samoa: San Marino: Sao Tomé and Príncipe: Saudi Arabia: Senegal: Serbia: Seychelles: Sierra Leone: Singapore: Slovakia: Slovenia: Solomon Islands: Somalia: South Africa: South Korea: South Sudan: Spain: Sri Lanka: Sudan: Suriname: Swaziland: Sweden: Switzerland: Syria: Taiwan: Tajikistan: Tanzania: Thailand: Timor-Leste: Togo: Tonga: Trinidad and Tobago: Tunisia: Turkey: Turkmenistan: Tuvalu: Uganda: Ukraine: United Arab Emirates: United Kingdom: United States: Uruguay: Uzbekistan: Vanuatu: Vatican City: Venezuela: Vietnam: Yemen: Zambia: Zimbabwe: "
     ]
    }
   ],
   "source": [
    "# Aqui estoy confundido, al momento de tratar de imprimir la poblacion me marca un error con los decimales\n",
    "# o algo asi...\n",
    "\n",
    "for item in session.query(World.name).all():\n",
    "    print(item.name, end=': ')"
   ]
  },
  {
   "cell_type": "code",
   "execution_count": 53,
   "metadata": {
    "collapsed": false
   },
   "outputs": [],
   "source": [
    "# ya no me salio el error pero era algo como:\n",
    "# SAWarning: Dialect sqlite+pysqlite does not support Decimal objects natively\n",
    "#for item in session.query(World.name, World.population):\n",
    "#   print(item.name)"
   ]
  }
 ],
 "metadata": {
  "kernelspec": {
   "display_name": "Python 3",
   "language": "python",
   "name": "python3"
  },
  "language_info": {
   "codemirror_mode": {
    "name": "ipython",
    "version": 3
   },
   "file_extension": ".py",
   "mimetype": "text/x-python",
   "name": "python",
   "nbconvert_exporter": "python",
   "pygments_lexer": "ipython3",
   "version": "3.4.2"
  }
 },
 "nbformat": 4,
 "nbformat_minor": 1
}
