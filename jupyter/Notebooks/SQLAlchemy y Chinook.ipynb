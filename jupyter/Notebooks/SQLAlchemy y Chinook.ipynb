{
 "cells": [
  {
   "cell_type": "code",
   "execution_count": 1,
   "metadata": {
    "collapsed": true
   },
   "outputs": [],
   "source": [
    "from sqlalchemy import create_engine\n",
    "from sqlalchemy.ext.declarative import declarative_base\n",
    "from sqlalchemy.orm import scoped_session, sessionmaker"
   ]
  },
  {
   "cell_type": "code",
   "execution_count": 2,
   "metadata": {
    "collapsed": false
   },
   "outputs": [],
   "source": [
    "engine = create_engine('sqlite:///Chinook_Sqlite.sqlite')"
   ]
  },
  {
   "cell_type": "code",
   "execution_count": 3,
   "metadata": {
    "collapsed": false
   },
   "outputs": [],
   "source": [
    "Base = declarative_base()\n",
    "Base.metadata.reflect(engine)"
   ]
  },
  {
   "cell_type": "code",
   "execution_count": 5,
   "metadata": {
    "collapsed": true
   },
   "outputs": [],
   "source": [
    "session = scoped_session(sessionmaker(bind=engine))"
   ]
  },
  {
   "cell_type": "code",
   "execution_count": 6,
   "metadata": {
    "collapsed": false
   },
   "outputs": [
    {
     "data": {
      "text/plain": [
       "dict_keys(['Invoice', 'MediaType', 'Album', 'Playlist', 'Track', 'Employee', 'Customer', 'InvoiceLine', 'PlaylistTrack', 'Genre', 'Artist'])"
      ]
     },
     "execution_count": 6,
     "metadata": {},
     "output_type": "execute_result"
    }
   ],
   "source": [
    "Base.metadata.tables.keys()"
   ]
  },
  {
   "cell_type": "code",
   "execution_count": null,
   "metadata": {
    "collapsed": true
   },
   "outputs": [],
   "source": []
  },
  {
   "cell_type": "code",
   "execution_count": 7,
   "metadata": {
    "collapsed": false
   },
   "outputs": [],
   "source": [
    "class Artist(Base):\n",
    "    __table__ = Base.metadata.tables['Artist']"
   ]
  },
  {
   "cell_type": "code",
   "execution_count": 10,
   "metadata": {
    "collapsed": false
   },
   "outputs": [
    {
     "name": "stdout",
     "output_type": "stream",
     "text": [
      "Artist.Name\n",
      "Artist.Name\n",
      "Artist.Name\n",
      "Artist.Name\n",
      "Artist.Name\n",
      "Artist.Name\n",
      "Artist.Name\n",
      "Artist.Name\n",
      "Artist.Name\n",
      "Artist.Name\n",
      "Artist.Name\n",
      "Artist.Name\n",
      "Artist.Name\n",
      "Artist.Name\n",
      "Artist.Name\n",
      "Artist.Name\n",
      "Artist.Name\n",
      "Artist.Name\n",
      "Artist.Name\n",
      "Artist.Name\n",
      "Artist.Name\n",
      "Artist.Name\n",
      "Artist.Name\n",
      "Artist.Name\n",
      "Artist.Name\n",
      "Artist.Name\n",
      "Artist.Name\n",
      "Artist.Name\n",
      "Artist.Name\n",
      "Artist.Name\n",
      "Artist.Name\n",
      "Artist.Name\n",
      "Artist.Name\n",
      "Artist.Name\n",
      "Artist.Name\n",
      "Artist.Name\n",
      "Artist.Name\n",
      "Artist.Name\n",
      "Artist.Name\n",
      "Artist.Name\n",
      "Artist.Name\n",
      "Artist.Name\n",
      "Artist.Name\n",
      "Artist.Name\n",
      "Artist.Name\n",
      "Artist.Name\n",
      "Artist.Name\n",
      "Artist.Name\n",
      "Artist.Name\n",
      "Artist.Name\n",
      "Artist.Name\n",
      "Artist.Name\n",
      "Artist.Name\n",
      "Artist.Name\n",
      "Artist.Name\n",
      "Artist.Name\n",
      "Artist.Name\n",
      "Artist.Name\n",
      "Artist.Name\n",
      "Artist.Name\n",
      "Artist.Name\n",
      "Artist.Name\n",
      "Artist.Name\n",
      "Artist.Name\n",
      "Artist.Name\n",
      "Artist.Name\n",
      "Artist.Name\n",
      "Artist.Name\n",
      "Artist.Name\n",
      "Artist.Name\n",
      "Artist.Name\n",
      "Artist.Name\n",
      "Artist.Name\n",
      "Artist.Name\n",
      "Artist.Name\n",
      "Artist.Name\n",
      "Artist.Name\n",
      "Artist.Name\n",
      "Artist.Name\n",
      "Artist.Name\n",
      "Artist.Name\n",
      "Artist.Name\n",
      "Artist.Name\n",
      "Artist.Name\n",
      "Artist.Name\n",
      "Artist.Name\n",
      "Artist.Name\n",
      "Artist.Name\n",
      "Artist.Name\n",
      "Artist.Name\n",
      "Artist.Name\n",
      "Artist.Name\n",
      "Artist.Name\n",
      "Artist.Name\n",
      "Artist.Name\n",
      "Artist.Name\n",
      "Artist.Name\n",
      "Artist.Name\n",
      "Artist.Name\n",
      "Artist.Name\n",
      "Artist.Name\n",
      "Artist.Name\n",
      "Artist.Name\n",
      "Artist.Name\n",
      "Artist.Name\n",
      "Artist.Name\n",
      "Artist.Name\n",
      "Artist.Name\n",
      "Artist.Name\n",
      "Artist.Name\n",
      "Artist.Name\n",
      "Artist.Name\n",
      "Artist.Name\n",
      "Artist.Name\n",
      "Artist.Name\n",
      "Artist.Name\n",
      "Artist.Name\n",
      "Artist.Name\n",
      "Artist.Name\n",
      "Artist.Name\n",
      "Artist.Name\n",
      "Artist.Name\n",
      "Artist.Name\n",
      "Artist.Name\n",
      "Artist.Name\n",
      "Artist.Name\n",
      "Artist.Name\n",
      "Artist.Name\n",
      "Artist.Name\n",
      "Artist.Name\n",
      "Artist.Name\n",
      "Artist.Name\n",
      "Artist.Name\n",
      "Artist.Name\n",
      "Artist.Name\n",
      "Artist.Name\n",
      "Artist.Name\n",
      "Artist.Name\n",
      "Artist.Name\n",
      "Artist.Name\n",
      "Artist.Name\n",
      "Artist.Name\n",
      "Artist.Name\n",
      "Artist.Name\n",
      "Artist.Name\n",
      "Artist.Name\n",
      "Artist.Name\n",
      "Artist.Name\n",
      "Artist.Name\n",
      "Artist.Name\n",
      "Artist.Name\n",
      "Artist.Name\n",
      "Artist.Name\n",
      "Artist.Name\n",
      "Artist.Name\n",
      "Artist.Name\n",
      "Artist.Name\n",
      "Artist.Name\n",
      "Artist.Name\n",
      "Artist.Name\n",
      "Artist.Name\n",
      "Artist.Name\n",
      "Artist.Name\n",
      "Artist.Name\n",
      "Artist.Name\n",
      "Artist.Name\n",
      "Artist.Name\n",
      "Artist.Name\n",
      "Artist.Name\n",
      "Artist.Name\n",
      "Artist.Name\n",
      "Artist.Name\n",
      "Artist.Name\n",
      "Artist.Name\n",
      "Artist.Name\n",
      "Artist.Name\n",
      "Artist.Name\n",
      "Artist.Name\n",
      "Artist.Name\n",
      "Artist.Name\n",
      "Artist.Name\n",
      "Artist.Name\n",
      "Artist.Name\n",
      "Artist.Name\n",
      "Artist.Name\n",
      "Artist.Name\n",
      "Artist.Name\n",
      "Artist.Name\n",
      "Artist.Name\n",
      "Artist.Name\n",
      "Artist.Name\n",
      "Artist.Name\n",
      "Artist.Name\n",
      "Artist.Name\n",
      "Artist.Name\n",
      "Artist.Name\n",
      "Artist.Name\n",
      "Artist.Name\n",
      "Artist.Name\n",
      "Artist.Name\n",
      "Artist.Name\n",
      "Artist.Name\n",
      "Artist.Name\n",
      "Artist.Name\n",
      "Artist.Name\n",
      "Artist.Name\n",
      "Artist.Name\n",
      "Artist.Name\n",
      "Artist.Name\n",
      "Artist.Name\n",
      "Artist.Name\n",
      "Artist.Name\n",
      "Artist.Name\n",
      "Artist.Name\n",
      "Artist.Name\n",
      "Artist.Name\n",
      "Artist.Name\n",
      "Artist.Name\n",
      "Artist.Name\n",
      "Artist.Name\n",
      "Artist.Name\n",
      "Artist.Name\n",
      "Artist.Name\n",
      "Artist.Name\n",
      "Artist.Name\n",
      "Artist.Name\n",
      "Artist.Name\n",
      "Artist.Name\n",
      "Artist.Name\n",
      "Artist.Name\n",
      "Artist.Name\n",
      "Artist.Name\n",
      "Artist.Name\n",
      "Artist.Name\n",
      "Artist.Name\n",
      "Artist.Name\n",
      "Artist.Name\n",
      "Artist.Name\n",
      "Artist.Name\n",
      "Artist.Name\n",
      "Artist.Name\n",
      "Artist.Name\n",
      "Artist.Name\n",
      "Artist.Name\n",
      "Artist.Name\n",
      "Artist.Name\n",
      "Artist.Name\n",
      "Artist.Name\n",
      "Artist.Name\n",
      "Artist.Name\n",
      "Artist.Name\n",
      "Artist.Name\n",
      "Artist.Name\n",
      "Artist.Name\n",
      "Artist.Name\n",
      "Artist.Name\n",
      "Artist.Name\n",
      "Artist.Name\n",
      "Artist.Name\n",
      "Artist.Name\n",
      "Artist.Name\n",
      "Artist.Name\n",
      "Artist.Name\n",
      "Artist.Name\n",
      "Artist.Name\n",
      "Artist.Name\n",
      "Artist.Name\n",
      "Artist.Name\n",
      "Artist.Name\n",
      "Artist.Name\n",
      "Artist.Name\n",
      "Artist.Name\n",
      "Artist.Name\n",
      "Artist.Name\n",
      "Artist.Name\n"
     ]
    }
   ],
   "source": [
    "for item in session.query(Artist).all():\n",
    "    print(Artist.Name)"
   ]
  },
  {
   "cell_type": "code",
   "execution_count": 9,
   "metadata": {
    "collapsed": false
   },
   "outputs": [
    {
     "data": {
      "text/plain": [
       "dict_keys(['Invoice', 'MediaType', 'Album', 'Playlist', 'Track', 'Employee', 'Customer', 'InvoiceLine', 'PlaylistTrack', 'Genre', 'Artist'])"
      ]
     },
     "execution_count": 9,
     "metadata": {},
     "output_type": "execute_result"
    }
   ],
   "source": [
    "Artist.metadata.tables.keys()\n"
   ]
  },
  {
   "cell_type": "code",
   "execution_count": null,
   "metadata": {
    "collapsed": true
   },
   "outputs": [],
   "source": [
    "\n"
   ]
  }
 ],
 "metadata": {
  "kernelspec": {
   "display_name": "Python 3",
   "language": "python",
   "name": "python3"
  },
  "language_info": {
   "codemirror_mode": {
    "name": "ipython",
    "version": 3
   },
   "file_extension": ".py",
   "mimetype": "text/x-python",
   "name": "python",
   "nbconvert_exporter": "python",
   "pygments_lexer": "ipython3",
   "version": "3.4.2"
  }
 },
 "nbformat": 4,
 "nbformat_minor": 1
}
